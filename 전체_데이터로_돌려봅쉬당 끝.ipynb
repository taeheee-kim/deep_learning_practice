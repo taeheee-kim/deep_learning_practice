{
  "nbformat": 4,
  "nbformat_minor": 0,
  "metadata": {
    "accelerator": "GPU",
    "colab": {
      "name": "전체 데이터로 돌려봅쉬당~",
      "provenance": [],
      "collapsed_sections": [],
      "machine_shape": "hm",
      "include_colab_link": true
    },
    "kernelspec": {
      "display_name": "Python 3",
      "language": "python",
      "name": "python3"
    },
    "language_info": {
      "codemirror_mode": {
        "name": "ipython",
        "version": 3
      },
      "file_extension": ".py",
      "mimetype": "text/x-python",
      "name": "python",
      "nbconvert_exporter": "python",
      "pygments_lexer": "ipython3",
      "version": "3.8.5"
    },
    "widgets": {
      "application/vnd.jupyter.widget-state+json": {
        "c9f40575fcce4fe9828bb13ffd279c94": {
          "model_module": "@jupyter-widgets/controls",
          "model_name": "HBoxModel",
          "model_module_version": "1.5.0",
          "state": {
            "_view_name": "HBoxView",
            "_dom_classes": [],
            "_model_name": "HBoxModel",
            "_view_module": "@jupyter-widgets/controls",
            "_model_module_version": "1.5.0",
            "_view_count": null,
            "_view_module_version": "1.5.0",
            "box_style": "",
            "layout": "IPY_MODEL_21cc468f40a345fe8289177ce82fe989",
            "_model_module": "@jupyter-widgets/controls",
            "children": [
              "IPY_MODEL_c147db2834b14781a768b5d829c96055",
              "IPY_MODEL_88a683cade79407d80c27eb43b89997d",
              "IPY_MODEL_9509c48a2ec9465dbf8c83238a660a18"
            ]
          }
        },
        "21cc468f40a345fe8289177ce82fe989": {
          "model_module": "@jupyter-widgets/base",
          "model_name": "LayoutModel",
          "model_module_version": "1.2.0",
          "state": {
            "_view_name": "LayoutView",
            "grid_template_rows": null,
            "right": null,
            "justify_content": null,
            "_view_module": "@jupyter-widgets/base",
            "overflow": null,
            "_model_module_version": "1.2.0",
            "_view_count": null,
            "flex_flow": null,
            "width": null,
            "min_width": null,
            "border": null,
            "align_items": null,
            "bottom": null,
            "_model_module": "@jupyter-widgets/base",
            "top": null,
            "grid_column": null,
            "overflow_y": null,
            "overflow_x": null,
            "grid_auto_flow": null,
            "grid_area": null,
            "grid_template_columns": null,
            "flex": null,
            "_model_name": "LayoutModel",
            "justify_items": null,
            "grid_row": null,
            "max_height": null,
            "align_content": null,
            "visibility": null,
            "align_self": null,
            "height": null,
            "min_height": null,
            "padding": null,
            "grid_auto_rows": null,
            "grid_gap": null,
            "max_width": null,
            "order": null,
            "_view_module_version": "1.2.0",
            "grid_template_areas": null,
            "object_position": null,
            "object_fit": null,
            "grid_auto_columns": null,
            "margin": null,
            "display": null,
            "left": null
          }
        },
        "c147db2834b14781a768b5d829c96055": {
          "model_module": "@jupyter-widgets/controls",
          "model_name": "HTMLModel",
          "model_module_version": "1.5.0",
          "state": {
            "_view_name": "HTMLView",
            "style": "IPY_MODEL_e19968310156450ea02976617a578555",
            "_dom_classes": [],
            "description": "",
            "_model_name": "HTMLModel",
            "placeholder": "​",
            "_view_module": "@jupyter-widgets/controls",
            "_model_module_version": "1.5.0",
            "value": "100%",
            "_view_count": null,
            "_view_module_version": "1.5.0",
            "description_tooltip": null,
            "_model_module": "@jupyter-widgets/controls",
            "layout": "IPY_MODEL_f199194c6f5d496193510a84248006e4"
          }
        },
        "88a683cade79407d80c27eb43b89997d": {
          "model_module": "@jupyter-widgets/controls",
          "model_name": "FloatProgressModel",
          "model_module_version": "1.5.0",
          "state": {
            "_view_name": "ProgressView",
            "style": "IPY_MODEL_bd90a010593f45609f1d7656fb8c481d",
            "_dom_classes": [],
            "description": "",
            "_model_name": "FloatProgressModel",
            "bar_style": "success",
            "max": 173245619,
            "_view_module": "@jupyter-widgets/controls",
            "_model_module_version": "1.5.0",
            "value": 173245619,
            "_view_count": null,
            "_view_module_version": "1.5.0",
            "orientation": "horizontal",
            "min": 0,
            "description_tooltip": null,
            "_model_module": "@jupyter-widgets/controls",
            "layout": "IPY_MODEL_4b1c2bc331974456b6d2faf508c38f4a"
          }
        },
        "9509c48a2ec9465dbf8c83238a660a18": {
          "model_module": "@jupyter-widgets/controls",
          "model_name": "HTMLModel",
          "model_module_version": "1.5.0",
          "state": {
            "_view_name": "HTMLView",
            "style": "IPY_MODEL_68cbd2ecd9ff48e68f1fd8dd8ba465f9",
            "_dom_classes": [],
            "description": "",
            "_model_name": "HTMLModel",
            "placeholder": "​",
            "_view_module": "@jupyter-widgets/controls",
            "_model_module_version": "1.5.0",
            "value": " 165M/165M [00:05&lt;00:00, 38.1MB/s]",
            "_view_count": null,
            "_view_module_version": "1.5.0",
            "description_tooltip": null,
            "_model_module": "@jupyter-widgets/controls",
            "layout": "IPY_MODEL_6b1599962b5045079a8525664d99349d"
          }
        },
        "e19968310156450ea02976617a578555": {
          "model_module": "@jupyter-widgets/controls",
          "model_name": "DescriptionStyleModel",
          "model_module_version": "1.5.0",
          "state": {
            "_view_name": "StyleView",
            "_model_name": "DescriptionStyleModel",
            "description_width": "",
            "_view_module": "@jupyter-widgets/base",
            "_model_module_version": "1.5.0",
            "_view_count": null,
            "_view_module_version": "1.2.0",
            "_model_module": "@jupyter-widgets/controls"
          }
        },
        "f199194c6f5d496193510a84248006e4": {
          "model_module": "@jupyter-widgets/base",
          "model_name": "LayoutModel",
          "model_module_version": "1.2.0",
          "state": {
            "_view_name": "LayoutView",
            "grid_template_rows": null,
            "right": null,
            "justify_content": null,
            "_view_module": "@jupyter-widgets/base",
            "overflow": null,
            "_model_module_version": "1.2.0",
            "_view_count": null,
            "flex_flow": null,
            "width": null,
            "min_width": null,
            "border": null,
            "align_items": null,
            "bottom": null,
            "_model_module": "@jupyter-widgets/base",
            "top": null,
            "grid_column": null,
            "overflow_y": null,
            "overflow_x": null,
            "grid_auto_flow": null,
            "grid_area": null,
            "grid_template_columns": null,
            "flex": null,
            "_model_name": "LayoutModel",
            "justify_items": null,
            "grid_row": null,
            "max_height": null,
            "align_content": null,
            "visibility": null,
            "align_self": null,
            "height": null,
            "min_height": null,
            "padding": null,
            "grid_auto_rows": null,
            "grid_gap": null,
            "max_width": null,
            "order": null,
            "_view_module_version": "1.2.0",
            "grid_template_areas": null,
            "object_position": null,
            "object_fit": null,
            "grid_auto_columns": null,
            "margin": null,
            "display": null,
            "left": null
          }
        },
        "bd90a010593f45609f1d7656fb8c481d": {
          "model_module": "@jupyter-widgets/controls",
          "model_name": "ProgressStyleModel",
          "model_module_version": "1.5.0",
          "state": {
            "_view_name": "StyleView",
            "_model_name": "ProgressStyleModel",
            "description_width": "",
            "_view_module": "@jupyter-widgets/base",
            "_model_module_version": "1.5.0",
            "_view_count": null,
            "_view_module_version": "1.2.0",
            "bar_color": null,
            "_model_module": "@jupyter-widgets/controls"
          }
        },
        "4b1c2bc331974456b6d2faf508c38f4a": {
          "model_module": "@jupyter-widgets/base",
          "model_name": "LayoutModel",
          "model_module_version": "1.2.0",
          "state": {
            "_view_name": "LayoutView",
            "grid_template_rows": null,
            "right": null,
            "justify_content": null,
            "_view_module": "@jupyter-widgets/base",
            "overflow": null,
            "_model_module_version": "1.2.0",
            "_view_count": null,
            "flex_flow": null,
            "width": null,
            "min_width": null,
            "border": null,
            "align_items": null,
            "bottom": null,
            "_model_module": "@jupyter-widgets/base",
            "top": null,
            "grid_column": null,
            "overflow_y": null,
            "overflow_x": null,
            "grid_auto_flow": null,
            "grid_area": null,
            "grid_template_columns": null,
            "flex": null,
            "_model_name": "LayoutModel",
            "justify_items": null,
            "grid_row": null,
            "max_height": null,
            "align_content": null,
            "visibility": null,
            "align_self": null,
            "height": null,
            "min_height": null,
            "padding": null,
            "grid_auto_rows": null,
            "grid_gap": null,
            "max_width": null,
            "order": null,
            "_view_module_version": "1.2.0",
            "grid_template_areas": null,
            "object_position": null,
            "object_fit": null,
            "grid_auto_columns": null,
            "margin": null,
            "display": null,
            "left": null
          }
        },
        "68cbd2ecd9ff48e68f1fd8dd8ba465f9": {
          "model_module": "@jupyter-widgets/controls",
          "model_name": "DescriptionStyleModel",
          "model_module_version": "1.5.0",
          "state": {
            "_view_name": "StyleView",
            "_model_name": "DescriptionStyleModel",
            "description_width": "",
            "_view_module": "@jupyter-widgets/base",
            "_model_module_version": "1.5.0",
            "_view_count": null,
            "_view_module_version": "1.2.0",
            "_model_module": "@jupyter-widgets/controls"
          }
        },
        "6b1599962b5045079a8525664d99349d": {
          "model_module": "@jupyter-widgets/base",
          "model_name": "LayoutModel",
          "model_module_version": "1.2.0",
          "state": {
            "_view_name": "LayoutView",
            "grid_template_rows": null,
            "right": null,
            "justify_content": null,
            "_view_module": "@jupyter-widgets/base",
            "overflow": null,
            "_model_module_version": "1.2.0",
            "_view_count": null,
            "flex_flow": null,
            "width": null,
            "min_width": null,
            "border": null,
            "align_items": null,
            "bottom": null,
            "_model_module": "@jupyter-widgets/base",
            "top": null,
            "grid_column": null,
            "overflow_y": null,
            "overflow_x": null,
            "grid_auto_flow": null,
            "grid_area": null,
            "grid_template_columns": null,
            "flex": null,
            "_model_name": "LayoutModel",
            "justify_items": null,
            "grid_row": null,
            "max_height": null,
            "align_content": null,
            "visibility": null,
            "align_self": null,
            "height": null,
            "min_height": null,
            "padding": null,
            "grid_auto_rows": null,
            "grid_gap": null,
            "max_width": null,
            "order": null,
            "_view_module_version": "1.2.0",
            "grid_template_areas": null,
            "object_position": null,
            "object_fit": null,
            "grid_auto_columns": null,
            "margin": null,
            "display": null,
            "left": null
          }
        },
        "dd2fbe0135b7465780e3730fe56d1c49": {
          "model_module": "@jupyter-widgets/controls",
          "model_name": "HBoxModel",
          "model_module_version": "1.5.0",
          "state": {
            "_view_name": "HBoxView",
            "_dom_classes": [],
            "_model_name": "HBoxModel",
            "_view_module": "@jupyter-widgets/controls",
            "_model_module_version": "1.5.0",
            "_view_count": null,
            "_view_module_version": "1.5.0",
            "box_style": "",
            "layout": "IPY_MODEL_7cf7470d05934eaf864b34f4b0fa70a8",
            "_model_module": "@jupyter-widgets/controls",
            "children": [
              "IPY_MODEL_5d2fdcbfff22492aa42fb5001df32d9c",
              "IPY_MODEL_3676bf955f0e44cf8f6baca1e0942644",
              "IPY_MODEL_422fe254a4b847d4a5be3c8f172c2e78"
            ]
          }
        },
        "7cf7470d05934eaf864b34f4b0fa70a8": {
          "model_module": "@jupyter-widgets/base",
          "model_name": "LayoutModel",
          "model_module_version": "1.2.0",
          "state": {
            "_view_name": "LayoutView",
            "grid_template_rows": null,
            "right": null,
            "justify_content": null,
            "_view_module": "@jupyter-widgets/base",
            "overflow": null,
            "_model_module_version": "1.2.0",
            "_view_count": null,
            "flex_flow": null,
            "width": null,
            "min_width": null,
            "border": null,
            "align_items": null,
            "bottom": null,
            "_model_module": "@jupyter-widgets/base",
            "top": null,
            "grid_column": null,
            "overflow_y": null,
            "overflow_x": null,
            "grid_auto_flow": null,
            "grid_area": null,
            "grid_template_columns": null,
            "flex": null,
            "_model_name": "LayoutModel",
            "justify_items": null,
            "grid_row": null,
            "max_height": null,
            "align_content": null,
            "visibility": null,
            "align_self": null,
            "height": null,
            "min_height": null,
            "padding": null,
            "grid_auto_rows": null,
            "grid_gap": null,
            "max_width": null,
            "order": null,
            "_view_module_version": "1.2.0",
            "grid_template_areas": null,
            "object_position": null,
            "object_fit": null,
            "grid_auto_columns": null,
            "margin": null,
            "display": null,
            "left": null
          }
        },
        "5d2fdcbfff22492aa42fb5001df32d9c": {
          "model_module": "@jupyter-widgets/controls",
          "model_name": "HTMLModel",
          "model_module_version": "1.5.0",
          "state": {
            "_view_name": "HTMLView",
            "style": "IPY_MODEL_5c464c0fea134c6a8af73d790db4fc5b",
            "_dom_classes": [],
            "description": "",
            "_model_name": "HTMLModel",
            "placeholder": "​",
            "_view_module": "@jupyter-widgets/controls",
            "_model_module_version": "1.5.0",
            "value": "100%",
            "_view_count": null,
            "_view_module_version": "1.5.0",
            "description_tooltip": null,
            "_model_module": "@jupyter-widgets/controls",
            "layout": "IPY_MODEL_9e9006abe46348aab5cc93112f3bd576"
          }
        },
        "3676bf955f0e44cf8f6baca1e0942644": {
          "model_module": "@jupyter-widgets/controls",
          "model_name": "FloatProgressModel",
          "model_module_version": "1.5.0",
          "state": {
            "_view_name": "ProgressView",
            "style": "IPY_MODEL_f8b6bbe6400a48fc9460d3061189ebb3",
            "_dom_classes": [],
            "description": "",
            "_model_name": "FloatProgressModel",
            "bar_style": "success",
            "max": 2079,
            "_view_module": "@jupyter-widgets/controls",
            "_model_module_version": "1.5.0",
            "value": 2079,
            "_view_count": null,
            "_view_module_version": "1.5.0",
            "orientation": "horizontal",
            "min": 0,
            "description_tooltip": null,
            "_model_module": "@jupyter-widgets/controls",
            "layout": "IPY_MODEL_2aafeec7ec0b4697a993853781de3ff8"
          }
        },
        "422fe254a4b847d4a5be3c8f172c2e78": {
          "model_module": "@jupyter-widgets/controls",
          "model_name": "HTMLModel",
          "model_module_version": "1.5.0",
          "state": {
            "_view_name": "HTMLView",
            "style": "IPY_MODEL_37f5f100b24743a6a4776b4dead6018c",
            "_dom_classes": [],
            "description": "",
            "_model_name": "HTMLModel",
            "placeholder": "​",
            "_view_module": "@jupyter-widgets/controls",
            "_model_module_version": "1.5.0",
            "value": " 2079/2079 [2:06:16&lt;00:00,  3.65s/it]",
            "_view_count": null,
            "_view_module_version": "1.5.0",
            "description_tooltip": null,
            "_model_module": "@jupyter-widgets/controls",
            "layout": "IPY_MODEL_7e0e77f5a35d4edfb31605a2d73d90c6"
          }
        },
        "5c464c0fea134c6a8af73d790db4fc5b": {
          "model_module": "@jupyter-widgets/controls",
          "model_name": "DescriptionStyleModel",
          "model_module_version": "1.5.0",
          "state": {
            "_view_name": "StyleView",
            "_model_name": "DescriptionStyleModel",
            "description_width": "",
            "_view_module": "@jupyter-widgets/base",
            "_model_module_version": "1.5.0",
            "_view_count": null,
            "_view_module_version": "1.2.0",
            "_model_module": "@jupyter-widgets/controls"
          }
        },
        "9e9006abe46348aab5cc93112f3bd576": {
          "model_module": "@jupyter-widgets/base",
          "model_name": "LayoutModel",
          "model_module_version": "1.2.0",
          "state": {
            "_view_name": "LayoutView",
            "grid_template_rows": null,
            "right": null,
            "justify_content": null,
            "_view_module": "@jupyter-widgets/base",
            "overflow": null,
            "_model_module_version": "1.2.0",
            "_view_count": null,
            "flex_flow": null,
            "width": null,
            "min_width": null,
            "border": null,
            "align_items": null,
            "bottom": null,
            "_model_module": "@jupyter-widgets/base",
            "top": null,
            "grid_column": null,
            "overflow_y": null,
            "overflow_x": null,
            "grid_auto_flow": null,
            "grid_area": null,
            "grid_template_columns": null,
            "flex": null,
            "_model_name": "LayoutModel",
            "justify_items": null,
            "grid_row": null,
            "max_height": null,
            "align_content": null,
            "visibility": null,
            "align_self": null,
            "height": null,
            "min_height": null,
            "padding": null,
            "grid_auto_rows": null,
            "grid_gap": null,
            "max_width": null,
            "order": null,
            "_view_module_version": "1.2.0",
            "grid_template_areas": null,
            "object_position": null,
            "object_fit": null,
            "grid_auto_columns": null,
            "margin": null,
            "display": null,
            "left": null
          }
        },
        "f8b6bbe6400a48fc9460d3061189ebb3": {
          "model_module": "@jupyter-widgets/controls",
          "model_name": "ProgressStyleModel",
          "model_module_version": "1.5.0",
          "state": {
            "_view_name": "StyleView",
            "_model_name": "ProgressStyleModel",
            "description_width": "",
            "_view_module": "@jupyter-widgets/base",
            "_model_module_version": "1.5.0",
            "_view_count": null,
            "_view_module_version": "1.2.0",
            "bar_color": null,
            "_model_module": "@jupyter-widgets/controls"
          }
        },
        "2aafeec7ec0b4697a993853781de3ff8": {
          "model_module": "@jupyter-widgets/base",
          "model_name": "LayoutModel",
          "model_module_version": "1.2.0",
          "state": {
            "_view_name": "LayoutView",
            "grid_template_rows": null,
            "right": null,
            "justify_content": null,
            "_view_module": "@jupyter-widgets/base",
            "overflow": null,
            "_model_module_version": "1.2.0",
            "_view_count": null,
            "flex_flow": null,
            "width": null,
            "min_width": null,
            "border": null,
            "align_items": null,
            "bottom": null,
            "_model_module": "@jupyter-widgets/base",
            "top": null,
            "grid_column": null,
            "overflow_y": null,
            "overflow_x": null,
            "grid_auto_flow": null,
            "grid_area": null,
            "grid_template_columns": null,
            "flex": null,
            "_model_name": "LayoutModel",
            "justify_items": null,
            "grid_row": null,
            "max_height": null,
            "align_content": null,
            "visibility": null,
            "align_self": null,
            "height": null,
            "min_height": null,
            "padding": null,
            "grid_auto_rows": null,
            "grid_gap": null,
            "max_width": null,
            "order": null,
            "_view_module_version": "1.2.0",
            "grid_template_areas": null,
            "object_position": null,
            "object_fit": null,
            "grid_auto_columns": null,
            "margin": null,
            "display": null,
            "left": null
          }
        },
        "37f5f100b24743a6a4776b4dead6018c": {
          "model_module": "@jupyter-widgets/controls",
          "model_name": "DescriptionStyleModel",
          "model_module_version": "1.5.0",
          "state": {
            "_view_name": "StyleView",
            "_model_name": "DescriptionStyleModel",
            "description_width": "",
            "_view_module": "@jupyter-widgets/base",
            "_model_module_version": "1.5.0",
            "_view_count": null,
            "_view_module_version": "1.2.0",
            "_model_module": "@jupyter-widgets/controls"
          }
        },
        "7e0e77f5a35d4edfb31605a2d73d90c6": {
          "model_module": "@jupyter-widgets/base",
          "model_name": "LayoutModel",
          "model_module_version": "1.2.0",
          "state": {
            "_view_name": "LayoutView",
            "grid_template_rows": null,
            "right": null,
            "justify_content": null,
            "_view_module": "@jupyter-widgets/base",
            "overflow": null,
            "_model_module_version": "1.2.0",
            "_view_count": null,
            "flex_flow": null,
            "width": null,
            "min_width": null,
            "border": null,
            "align_items": null,
            "bottom": null,
            "_model_module": "@jupyter-widgets/base",
            "top": null,
            "grid_column": null,
            "overflow_y": null,
            "overflow_x": null,
            "grid_auto_flow": null,
            "grid_area": null,
            "grid_template_columns": null,
            "flex": null,
            "_model_name": "LayoutModel",
            "justify_items": null,
            "grid_row": null,
            "max_height": null,
            "align_content": null,
            "visibility": null,
            "align_self": null,
            "height": null,
            "min_height": null,
            "padding": null,
            "grid_auto_rows": null,
            "grid_gap": null,
            "max_width": null,
            "order": null,
            "_view_module_version": "1.2.0",
            "grid_template_areas": null,
            "object_position": null,
            "object_fit": null,
            "grid_auto_columns": null,
            "margin": null,
            "display": null,
            "left": null
          }
        }
      }
    }
  },
  "cells": [
    {
      "cell_type": "markdown",
      "metadata": {
        "id": "view-in-github",
        "colab_type": "text"
      },
      "source": [
        "<a href=\"https://colab.research.google.com/github/taeheee-kim/deep_learning_practice/blob/master/%EC%A0%84%EC%B2%B4_%EB%8D%B0%EC%9D%B4%ED%84%B0%EB%A1%9C_%EB%8F%8C%EB%A0%A4%EB%B4%85%EC%89%AC%EB%8B%B9%20%EB%81%9D.ipynb\" target=\"_parent\"><img src=\"https://colab.research.google.com/assets/colab-badge.svg\" alt=\"Open In Colab\"/></a>"
      ]
    },
    {
      "cell_type": "code",
      "metadata": {
        "colab": {
          "base_uri": "https://localhost:8080/"
        },
        "id": "DK_SNO-JVnUG",
        "outputId": "35170f9e-c2c6-408a-d1d9-c17de94fce87"
      },
      "source": [
        "!nvidia-smi"
      ],
      "execution_count": 1,
      "outputs": [
        {
          "output_type": "stream",
          "name": "stdout",
          "text": [
            "Wed Oct  6 23:24:06 2021       \n",
            "+-----------------------------------------------------------------------------+\n",
            "| NVIDIA-SMI 470.74       Driver Version: 460.32.03    CUDA Version: 11.2     |\n",
            "|-------------------------------+----------------------+----------------------+\n",
            "| GPU  Name        Persistence-M| Bus-Id        Disp.A | Volatile Uncorr. ECC |\n",
            "| Fan  Temp  Perf  Pwr:Usage/Cap|         Memory-Usage | GPU-Util  Compute M. |\n",
            "|                               |                      |               MIG M. |\n",
            "|===============================+======================+======================|\n",
            "|   0  Tesla P100-PCIE...  Off  | 00000000:00:04.0 Off |                    0 |\n",
            "| N/A   35C    P0    27W / 250W |      0MiB / 16280MiB |      0%      Default |\n",
            "|                               |                      |                  N/A |\n",
            "+-------------------------------+----------------------+----------------------+\n",
            "                                                                               \n",
            "+-----------------------------------------------------------------------------+\n",
            "| Processes:                                                                  |\n",
            "|  GPU   GI   CI        PID   Type   Process name                  GPU Memory |\n",
            "|        ID   ID                                                   Usage      |\n",
            "|=============================================================================|\n",
            "|  No running processes found                                                 |\n",
            "+-----------------------------------------------------------------------------+\n"
          ]
        }
      ]
    },
    {
      "cell_type": "code",
      "metadata": {
        "colab": {
          "base_uri": "https://localhost:8080/"
        },
        "id": "4uDG3-I4upW5",
        "outputId": "a24ac345-5f4a-49f7-865e-3d05f4efe1fe"
      },
      "source": [
        "!pip install -q -U albumentations\n",
        "!echo \"$(pip freeze | grep albumentations) is successfully installed\""
      ],
      "execution_count": 2,
      "outputs": [
        {
          "output_type": "stream",
          "name": "stdout",
          "text": [
            "\u001b[K     |████████████████████████████████| 102 kB 8.5 MB/s \n",
            "\u001b[K     |████████████████████████████████| 37.1 MB 81 kB/s \n",
            "\u001b[?25halbumentations==1.1.0 is successfully installed\n"
          ]
        }
      ]
    },
    {
      "cell_type": "markdown",
      "metadata": {
        "id": "5634b352"
      },
      "source": [
        "## Run the example"
      ]
    },
    {
      "cell_type": "markdown",
      "metadata": {
        "id": "rbaBsCay9Qvs"
      },
      "source": [
        "### Import the required libraries"
      ]
    },
    {
      "cell_type": "code",
      "metadata": {
        "colab": {
          "base_uri": "https://localhost:8080/"
        },
        "id": "oKxtuCHHDxhe",
        "outputId": "b361d7ca-9029-473a-b399-c159b6a467f5"
      },
      "source": [
        "from google.colab import drive\n",
        "drive.mount('/content/drive')"
      ],
      "execution_count": 3,
      "outputs": [
        {
          "output_type": "stream",
          "name": "stdout",
          "text": [
            "Mounted at /content/drive\n"
          ]
        }
      ]
    },
    {
      "cell_type": "code",
      "metadata": {
        "id": "edyDFX_Ih5-j"
      },
      "source": [
        " from collections import defaultdict\n",
        "import copy\n",
        "import random\n",
        "import os\n",
        "import shutil\n",
        "from urllib.request import urlretrieve\n",
        "\n",
        "import albumentations as A\n",
        "from albumentations.pytorch import ToTensorV2\n",
        "import cv2\n",
        "import matplotlib.pyplot as plt\n",
        "from tqdm import tqdm\n",
        "import torch\n",
        "import torch.backends.cudnn as cudnn\n",
        "import torch.nn as nn\n",
        "import torch.optim\n",
        "from torch.utils.data import Dataset, DataLoader\n",
        "import torchvision.models as models\n",
        "\n",
        "cudnn.benchmark = True"
      ],
      "execution_count": 4,
      "outputs": []
    },
    {
      "cell_type": "code",
      "metadata": {
        "id": "hs0GXavg-S0j"
      },
      "source": [
        "import gc\n",
        "import torch\n",
        "import torch.utils.data as Data\n",
        "import torch.nn as nn\n",
        "from torchvision import transforms, models\n",
        "import numpy as np\n",
        "import pandas as pd\n",
        "import matplotlib.pyplot as plt\n",
        "import seaborn as sns\n",
        "import warnings\n",
        "warnings.filterwarnings(\"ignore\")\n",
        "\n",
        "\n",
        "# 데이터 경로\n",
        "data_path = '/content/drive/My Drive/Tomato/'\n",
        "\n",
        "train = pd.read_csv(data_path + 'train.csv')\n",
        "#test = pd.read_csv(data_path + 'test.csv')\n",
        "#submission = pd.read_csv(data_path + 'sample_submission.csv')\n",
        "\n",
        "import torch # 파이토치\n",
        "import random\n",
        "import os\n"
      ],
      "execution_count": 5,
      "outputs": []
    },
    {
      "cell_type": "code",
      "metadata": {
        "id": "9V5L8BqC-S3a"
      },
      "source": [
        "\n",
        "# 시드 값 고정\n",
        "seed = 10\n",
        "os.environ['PYTHONHASHSEED'] = str(seed)\n",
        "random.seed(seed)\n",
        "np.random.seed(seed)\n",
        "torch.manual_seed(seed)\n",
        "torch.cuda.manual_seed(seed)\n",
        "torch.cuda.manual_seed_all(seed)\n",
        "torch.backends.cudnn.deterministic = True\n",
        "torch.backends.cudnn.benchmark = False\n",
        "torch.backends.cudnn.enabled = False\n",
        "\n",
        "device = torch.device('cuda' if torch.cuda.is_available() else 'cpu')\n",
        "\n",
        "from sklearn.model_selection import train_test_split\n",
        "\n",
        "# 훈련 데이터, 검증 데이터 분리\n",
        "train, valid = train_test_split(train,\n",
        "                                test_size=0.1,\n",
        "                                stratify=train[['Tomato_D01','Tomato_D04','Tomato_D05','Tomato_D07','Tomato_D08','Tomato_D09','Tomato_H','Tomato_P03','Tomato_P05','Tomato_R01']],\n",
        "                                random_state=10)\n",
        "\n",
        "import cv2\n",
        "from torch.utils.data import Dataset  # 데이터 생성을 위한 클래스\n",
        "import numpy as np\n",
        "import glob\n",
        "\n",
        "\n",
        "class ImageDataset(Dataset):\n",
        "    # 초기화 메서드(생성자)\n",
        "    def __init__(self, df, img_dir='./', transform=None, is_test=False):\n",
        "        super().__init__()  # 상속받은 Dataset의 __init__() 메서드 호출\n",
        "        self.df = df\n",
        "        self.img_dir = img_dir\n",
        "        self.transform = transform\n",
        "        self.is_test = is_test\n",
        "\n",
        "    # 데이터 세트 크기 반환 메서드\n",
        "    def __len__(self):\n",
        "        return len(self.df)\n",
        "\n",
        "    # 인덱스(idx)에 해당하는 데이터 반환 메서드\n",
        "    def __getitem__(self, idx):\n",
        "        \n",
        "        img_id = self.df.iloc[idx, 0] # 이미지 ID\n",
        "        img_path = self.img_dir + str(img_id) + '.png' # 이미지 파일 경로\n",
        "        image = cv2.imread(img_path) # 이미지 파일 읽기\n",
        "        image = cv2.cvtColor(image, cv2.COLOR_BGR2RGB) # 이미지 색상 보정\n",
        "        \n",
        "        # 이미지 변환\n",
        "        if self.transform is not None:\n",
        "            image = self.transform(image=image)['image']\n",
        "\n",
        "\n",
        "        # 테스트 데이터면 이미지 데이터만 반환, 그렇지 않으면 타깃 값(label)도 함께 반환\n",
        "        if self.is_test:\n",
        "            return image\n",
        "        else:\n",
        "            # 타깃 값 4개 중 가장 큰 값의 인덱스\n",
        "            label = np.argmax(self.df.iloc[idx, 1:11])\n",
        "            return image, label"
      ],
      "execution_count": 6,
      "outputs": []
    },
    {
      "cell_type": "code",
      "metadata": {
        "id": "SY-VttWP-S6Y"
      },
      "source": [
        "# 이미지 변환을 위한 모듈\n",
        "import albumentations as A\n",
        "from albumentations.pytorch import ToTensorV2\n",
        "\n",
        "# 훈련 데이터용 변환기\n",
        "transform_train = A.Compose([\n",
        "    A.Resize(400, 600), # 이미지 크기 조절\n",
        "    # 밝기 및 대비 조절 \n",
        "    A.RandomBrightnessContrast(brightness_limit=0.1, \n",
        "                               contrast_limit=0.1, p=0.5),\n",
        "    A.VerticalFlip(p=0.5), # 상하 대칭 변환\n",
        "    A.HorizontalFlip(p=0.5), # 좌우 대칭 변환\n",
        "    # 이동, 스케일링, 회전 변환 \n",
        "    A.ShiftScaleRotate(\n",
        "        shift_limit=0.1,\n",
        "        scale_limit=0.2,\n",
        "        rotate_limit=25, p=0.7),\n",
        "    # 양각화, 날카로움, 블러 효과 \n",
        "    A.OneOf([A.Emboss(p=1),\n",
        "             A.Sharpen(p=1),\n",
        "             A.Blur(p=1)], p=0.5),\n",
        "    A.PiecewiseAffine(p=0.5), # 어파인 변환 \n",
        "    A.Normalize(), # 정규화 변환 \n",
        "    ToTensorV2() # 텐서로 변환\n",
        "])\n",
        "\n",
        "# 검증 및 테스트 데이터용 변환기\n",
        "transform_test = A.Compose([\n",
        "    A.Resize(400, 600),\n",
        "    A.Normalize(),\n",
        "    ToTensorV2()\n",
        "])"
      ],
      "execution_count": 7,
      "outputs": []
    },
    {
      "cell_type": "code",
      "metadata": {
        "id": "U0SYGLV1N7Do"
      },
      "source": [
        "img_dir = '/content/drive/My Drive/Tomato/images/'\n",
        "\n",
        "dataset_train = ImageDataset(train, img_dir=img_dir, transform=transform_train)\n",
        "dataset_valid = ImageDataset(valid, img_dir=img_dir, transform=transform_test)"
      ],
      "execution_count": 8,
      "outputs": []
    },
    {
      "cell_type": "code",
      "metadata": {
        "colab": {
          "base_uri": "https://localhost:8080/"
        },
        "id": "8TLkNr3a-S_q",
        "outputId": "be9221ac-4b19-454c-f50d-18906dbfb127"
      },
      "source": [
        "def seed_worker(worker_id): #시드를 고정해주는 역할\n",
        "    worker_seed = torch.initial_seed() % 2**32\n",
        "    np.random.seed(worker_seed)\n",
        "    random.seed(worker_seed)\n",
        "    \n",
        "g = torch.Generator()\n",
        "g.manual_seed(0)"
      ],
      "execution_count": 9,
      "outputs": [
        {
          "output_type": "execute_result",
          "data": {
            "text/plain": [
              "<torch._C.Generator at 0x7fb107b31910>"
            ]
          },
          "metadata": {},
          "execution_count": 9
        }
      ]
    },
    {
      "cell_type": "code",
      "metadata": {
        "id": "u09dAjzj-TCv"
      },
      "source": [
        "from torch.utils.data import DataLoader # 데이터 로더 생성을 위한 클래스\n",
        "\n",
        "batch_size = 6\n",
        "\n",
        "loader_train = DataLoader(dataset_train, batch_size=batch_size, \n",
        "                          shuffle=True, worker_init_fn=seed_worker,\n",
        "                          generator=g)\n",
        "loader_valid = DataLoader(dataset_valid, batch_size=batch_size, \n",
        "                          shuffle=False, worker_init_fn=seed_worker,\n",
        "                          generator=g)"
      ],
      "execution_count": 10,
      "outputs": []
    },
    {
      "cell_type": "code",
      "metadata": {
        "colab": {
          "base_uri": "https://localhost:8080/"
        },
        "id": "0GtLzDh4RXSt",
        "outputId": "acff9ae0-443e-4030-cce2-0a797972c393"
      },
      "source": [
        "!pip install efficientnet-pytorch==0.7.1"
      ],
      "execution_count": 11,
      "outputs": [
        {
          "output_type": "stream",
          "name": "stdout",
          "text": [
            "Collecting efficientnet-pytorch==0.7.1\n",
            "  Downloading efficientnet_pytorch-0.7.1.tar.gz (21 kB)\n",
            "Requirement already satisfied: torch in /usr/local/lib/python3.7/dist-packages (from efficientnet-pytorch==0.7.1) (1.9.0+cu102)\n",
            "Requirement already satisfied: typing-extensions in /usr/local/lib/python3.7/dist-packages (from torch->efficientnet-pytorch==0.7.1) (3.7.4.3)\n",
            "Building wheels for collected packages: efficientnet-pytorch\n",
            "  Building wheel for efficientnet-pytorch (setup.py) ... \u001b[?25l\u001b[?25hdone\n",
            "  Created wheel for efficientnet-pytorch: filename=efficientnet_pytorch-0.7.1-py3-none-any.whl size=16446 sha256=f47ef40a07fcde86db38c543d2f02190345e0f9edaa0ee47cea6c27fe5603c1b\n",
            "  Stored in directory: /root/.cache/pip/wheels/0e/cc/b2/49e74588263573ff778da58cc99b9c6349b496636a7e165be6\n",
            "Successfully built efficientnet-pytorch\n",
            "Installing collected packages: efficientnet-pytorch\n",
            "Successfully installed efficientnet-pytorch-0.7.1\n"
          ]
        }
      ]
    },
    {
      "cell_type": "code",
      "metadata": {
        "colab": {
          "base_uri": "https://localhost:8080/",
          "height": 795
        },
        "id": "smkNehSsTTwF",
        "outputId": "483cad20-4629-401c-e0b6-20e2ec143309"
      },
      "source": [
        "!pip install transformers"
      ],
      "execution_count": 12,
      "outputs": [
        {
          "output_type": "stream",
          "name": "stdout",
          "text": [
            "Collecting transformers\n",
            "  Downloading transformers-4.11.3-py3-none-any.whl (2.9 MB)\n",
            "\u001b[K     |████████████████████████████████| 2.9 MB 7.4 MB/s \n",
            "\u001b[?25hRequirement already satisfied: regex!=2019.12.17 in /usr/local/lib/python3.7/dist-packages (from transformers) (2019.12.20)\n",
            "Requirement already satisfied: packaging>=20.0 in /usr/local/lib/python3.7/dist-packages (from transformers) (21.0)\n",
            "Requirement already satisfied: numpy>=1.17 in /usr/local/lib/python3.7/dist-packages (from transformers) (1.19.5)\n",
            "Collecting sacremoses\n",
            "  Downloading sacremoses-0.0.46-py3-none-any.whl (895 kB)\n",
            "\u001b[K     |████████████████████████████████| 895 kB 68.7 MB/s \n",
            "\u001b[?25hRequirement already satisfied: requests in /usr/local/lib/python3.7/dist-packages (from transformers) (2.23.0)\n",
            "Requirement already satisfied: importlib-metadata in /usr/local/lib/python3.7/dist-packages (from transformers) (4.8.1)\n",
            "Requirement already satisfied: tqdm>=4.27 in /usr/local/lib/python3.7/dist-packages (from transformers) (4.62.3)\n",
            "Requirement already satisfied: filelock in /usr/local/lib/python3.7/dist-packages (from transformers) (3.2.0)\n",
            "Collecting huggingface-hub>=0.0.17\n",
            "  Downloading huggingface_hub-0.0.19-py3-none-any.whl (56 kB)\n",
            "\u001b[K     |████████████████████████████████| 56 kB 1.6 MB/s \n",
            "\u001b[?25hCollecting tokenizers<0.11,>=0.10.1\n",
            "  Downloading tokenizers-0.10.3-cp37-cp37m-manylinux_2_5_x86_64.manylinux1_x86_64.manylinux_2_12_x86_64.manylinux2010_x86_64.whl (3.3 MB)\n",
            "\u001b[K     |████████████████████████████████| 3.3 MB 61.0 MB/s \n",
            "\u001b[?25hCollecting pyyaml>=5.1\n",
            "  Downloading PyYAML-5.4.1-cp37-cp37m-manylinux1_x86_64.whl (636 kB)\n",
            "\u001b[K     |████████████████████████████████| 636 kB 65.6 MB/s \n",
            "\u001b[?25hRequirement already satisfied: typing-extensions in /usr/local/lib/python3.7/dist-packages (from huggingface-hub>=0.0.17->transformers) (3.7.4.3)\n",
            "Requirement already satisfied: pyparsing>=2.0.2 in /usr/local/lib/python3.7/dist-packages (from packaging>=20.0->transformers) (2.4.7)\n",
            "Requirement already satisfied: zipp>=0.5 in /usr/local/lib/python3.7/dist-packages (from importlib-metadata->transformers) (3.6.0)\n",
            "Requirement already satisfied: urllib3!=1.25.0,!=1.25.1,<1.26,>=1.21.1 in /usr/local/lib/python3.7/dist-packages (from requests->transformers) (1.24.3)\n",
            "Requirement already satisfied: certifi>=2017.4.17 in /usr/local/lib/python3.7/dist-packages (from requests->transformers) (2021.5.30)\n",
            "Requirement already satisfied: idna<3,>=2.5 in /usr/local/lib/python3.7/dist-packages (from requests->transformers) (2.10)\n",
            "Requirement already satisfied: chardet<4,>=3.0.2 in /usr/local/lib/python3.7/dist-packages (from requests->transformers) (3.0.4)\n",
            "Requirement already satisfied: joblib in /usr/local/lib/python3.7/dist-packages (from sacremoses->transformers) (1.0.1)\n",
            "Requirement already satisfied: six in /usr/local/lib/python3.7/dist-packages (from sacremoses->transformers) (1.15.0)\n",
            "Requirement already satisfied: click in /usr/local/lib/python3.7/dist-packages (from sacremoses->transformers) (7.1.2)\n",
            "Installing collected packages: pyyaml, tokenizers, sacremoses, huggingface-hub, transformers\n",
            "  Attempting uninstall: pyyaml\n",
            "    Found existing installation: PyYAML 3.13\n",
            "    Uninstalling PyYAML-3.13:\n",
            "      Successfully uninstalled PyYAML-3.13\n",
            "Successfully installed huggingface-hub-0.0.19 pyyaml-5.4.1 sacremoses-0.0.46 tokenizers-0.10.3 transformers-4.11.3\n"
          ]
        },
        {
          "output_type": "display_data",
          "data": {
            "application/vnd.colab-display-data+json": {
              "pip_warning": {
                "packages": [
                  "yaml"
                ]
              }
            }
          },
          "metadata": {}
        }
      ]
    },
    {
      "cell_type": "code",
      "metadata": {
        "colab": {
          "base_uri": "https://localhost:8080/",
          "height": 104,
          "referenced_widgets": [
            "c9f40575fcce4fe9828bb13ffd279c94",
            "21cc468f40a345fe8289177ce82fe989",
            "c147db2834b14781a768b5d829c96055",
            "88a683cade79407d80c27eb43b89997d",
            "9509c48a2ec9465dbf8c83238a660a18",
            "e19968310156450ea02976617a578555",
            "f199194c6f5d496193510a84248006e4",
            "bd90a010593f45609f1d7656fb8c481d",
            "4b1c2bc331974456b6d2faf508c38f4a",
            "68cbd2ecd9ff48e68f1fd8dd8ba465f9",
            "6b1599962b5045079a8525664d99349d"
          ]
        },
        "id": "gBtciumr-TIB",
        "outputId": "033f71db-3f3c-4771-e99f-c8c8669988a8"
      },
      "source": [
        "from efficientnet_pytorch import EfficientNet # EfficientNet 모델\n",
        "\n",
        "# 사전 훈련된 efficientnet-b6 모델 불러오기\n",
        "\n",
        "model = EfficientNet.from_pretrained('efficientnet-b6', num_classes=10) \n",
        "\n",
        "#model = model.to(device) # 장비 할당"
      ],
      "execution_count": 13,
      "outputs": [
        {
          "output_type": "stream",
          "name": "stderr",
          "text": [
            "Downloading: \"https://github.com/lukemelas/EfficientNet-PyTorch/releases/download/1.0/efficientnet-b6-c76e70fd.pth\" to /root/.cache/torch/hub/checkpoints/efficientnet-b6-c76e70fd.pth\n"
          ]
        },
        {
          "output_type": "display_data",
          "data": {
            "application/vnd.jupyter.widget-view+json": {
              "model_id": "c9f40575fcce4fe9828bb13ffd279c94",
              "version_minor": 0,
              "version_major": 2
            },
            "text/plain": [
              "  0%|          | 0.00/165M [00:00<?, ?B/s]"
            ]
          },
          "metadata": {}
        },
        {
          "output_type": "stream",
          "name": "stdout",
          "text": [
            "Loaded pretrained weights for efficientnet-b6\n"
          ]
        }
      ]
    },
    {
      "cell_type": "code",
      "metadata": {
        "id": "193jT_iLwUKz"
      },
      "source": [
        "#모델 이어서 돌리는 코드\n",
        "from sklearn.metrics import roc_auc_score # ROC AUC 점수 계산 함수\n",
        "from tqdm.notebook import tqdm # 진행률 표시 막대\n",
        "\n",
        "import copy\n",
        "PATH = '/content/drive/MyDrive/Tomato/태희/'\n",
        "\n",
        "#model = EfficientNet.from_pretrained('efficientnet-b6', num_classes=10) #하시던거 똑같이 유지\n",
        "device = 'cuda'\n",
        "model.load_state_dict(copy.deepcopy(torch.load(PATH + \"epoch10.pt\",device))) # 9, 14, 19, 24, 29 \n",
        "\n",
        "model = model.to(device) # 장비 할당\n",
        "\n",
        "#batch_size = 6 #하시던거 똑같이 유지"
      ],
      "execution_count": 14,
      "outputs": []
    },
    {
      "cell_type": "code",
      "metadata": {
        "id": "sz6l-XSC-1VD"
      },
      "source": [
        "import torch.nn as nn # 신경망 모듈\n",
        "\n",
        "# 손실함수\n",
        "criterion = nn.CrossEntropyLoss()\n",
        "\n",
        "# 옵티마이저\n",
        "optimizer = torch.optim.AdamW(model.parameters(), lr=0.00007, weight_decay=0.0001)\n",
        "\n",
        "from transformers import get_cosine_schedule_with_warmup\n",
        "\n",
        "epochs = 10 # 총 에폭\n",
        "\n",
        "# 스케줄러\n",
        "scheduler = get_cosine_schedule_with_warmup(optimizer, \n",
        "                                            num_warmup_steps=len(loader_train)*5, \n",
        "                                            num_training_steps=len(loader_train)*epochs)\n"
      ],
      "execution_count": 15,
      "outputs": []
    },
    {
      "cell_type": "code",
      "metadata": {
        "id": "3OR20R_MTdKG"
      },
      "source": [
        "train_loss = []\n",
        "valid_loss = []\n",
        "train_acc = []\n",
        "val_acc = []"
      ],
      "execution_count": 16,
      "outputs": []
    },
    {
      "cell_type": "code",
      "metadata": {
        "colab": {
          "base_uri": "https://localhost:8080/",
          "height": 689,
          "referenced_widgets": [
            "dd2fbe0135b7465780e3730fe56d1c49",
            "7cf7470d05934eaf864b34f4b0fa70a8",
            "5d2fdcbfff22492aa42fb5001df32d9c",
            "3676bf955f0e44cf8f6baca1e0942644",
            "422fe254a4b847d4a5be3c8f172c2e78",
            "5c464c0fea134c6a8af73d790db4fc5b",
            "9e9006abe46348aab5cc93112f3bd576",
            "f8b6bbe6400a48fc9460d3061189ebb3",
            "2aafeec7ec0b4697a993853781de3ff8",
            "37f5f100b24743a6a4776b4dead6018c",
            "7e0e77f5a35d4edfb31605a2d73d90c6"
          ]
        },
        "id": "hM0LDNVkTdNV",
        "outputId": "2893c7b2-e803-4e09-9123-7377e276f77f"
      },
      "source": [
        "from sklearn.metrics import roc_auc_score # ROC AUC 점수 계산 함수\n",
        "from tqdm.notebook import tqdm # 진행률 표시 막대\n",
        "\n",
        "# 총 에폭만큼 반복\n",
        "for epoch in range(epochs):\n",
        "    model.train() # 모델을 훈련 상태로 설정\n",
        "    epoch_train_loss = 0 # 에폭별 손실값 초기화 (훈련 데이터용)\n",
        "    epoch_is = epoch+11\n",
        "\n",
        "    # '반복 횟수'만큼 반복 \n",
        "    for images, labels in tqdm(loader_train):\n",
        "    \n",
        "        # 이미지, 레이블(타깃 값) 데이터 미니배치를 장비에 할당 \n",
        "        images = images.to(device)\n",
        "        labels = labels.to(device)\n",
        "        \n",
        "        # 옵티마이저 내 기울기 초기화\n",
        "        optimizer.zero_grad()\n",
        "        # 순전파 : 이미지 데이터를 신경망 모델의 입력값으로 사용해 출력값 계산\n",
        "        outputs = model(images)\n",
        "        # 손실함수를 활용해 outputs와 labels의 손실값 계산\n",
        "        loss = criterion(outputs, labels)\n",
        "        # 현재 배치에서의 손실 추가 (훈련 데이터용)\n",
        "        epoch_train_loss += loss.item() \n",
        "        # 역전파 수행\n",
        "        loss.backward() \n",
        "        # 가중치 갱신\n",
        "        optimizer.step() \n",
        "        # 스케줄러 학습률 갱신\n",
        "        scheduler.step() \n",
        "        \n",
        "    if (epoch_is)%2==0:\n",
        "          path = '/content/drive/My Drive/Tomato/태희/epoch수정' + str(epoch_is) + '.pt'\n",
        "          torch.save(model.state_dict(), path)\n",
        "\n",
        "    # 훈련 데이터 손실값 출력\n",
        "    print(f'에폭 [{epoch_is}/{epochs+10}] - 훈련 데이터 손실값 : {epoch_train_loss/len(loader_train):.4f}')\n",
        "    \n",
        "    model.eval() # 모델을 평가 상태로 설정 \n",
        "    epoch_valid_loss = 0 # 에폭별 손실값 초기화 (검증 데이터용) \n",
        "    preds_list = [] # 예측 확률값 저장용 리스트 초기화 \n",
        "    true_onehot_list = [] # 실제 타깃 값 저장용 리스트 초기화 \n",
        "    \n",
        "    with torch.no_grad(): # 기울기 계산 비활성\n",
        "        for images, labels in loader_valid:\n",
        "            images = images.to(device)\n",
        "            labels = labels.to(device)\n",
        "            \n",
        "            outputs = model(images)\n",
        "            loss = criterion(outputs, labels)\n",
        "            epoch_valid_loss += loss.item()\n",
        "            \n",
        "            preds = torch.softmax(outputs.cpu(), dim=1).numpy() # 예측 확률값\n",
        "            true_onehot = torch.eye(10)[labels].cpu().numpy() # 실제값 (원-핫 인코딩 형식)\n",
        "            # 예측 확률값과 실제값 저장\n",
        "            preds_list.extend(preds)\n",
        "            true_onehot_list.extend(true_onehot)\n",
        "            \n",
        "        # 검증 데이터 손실값 및 ROC AUC 점수 출력 \n",
        "        print(f'에폭 [{epoch_is}/{epochs+10}] - 검증 데이터 손실값 : {epoch_valid_loss/len(loader_valid):.4f} / 검증 데이터 ROC AUC : {roc_auc_score(true_onehot_list, preds_list):.4f}')  \n"
      ],
      "execution_count": 17,
      "outputs": [
        {
          "output_type": "display_data",
          "data": {
            "application/vnd.jupyter.widget-view+json": {
              "model_id": "dd2fbe0135b7465780e3730fe56d1c49",
              "version_minor": 0,
              "version_major": 2
            },
            "text/plain": [
              "  0%|          | 0/2079 [00:00<?, ?it/s]"
            ]
          },
          "metadata": {}
        },
        {
          "output_type": "stream",
          "name": "stdout",
          "text": [
            "에폭 [11/20] - 훈련 데이터 손실값 : 0.0161\n",
            "에폭 [11/20] - 검증 데이터 손실값 : 0.0211 / 검증 데이터 ROC AUC : 0.9999\n"
          ]
        },
        {
          "output_type": "display_data",
          "data": {
            "application/vnd.jupyter.widget-view+json": {
              "model_id": "6ae34822a0444718a079c3a5e93a0b6c",
              "version_minor": 0,
              "version_major": 2
            },
            "text/plain": [
              "  0%|          | 0/2079 [00:00<?, ?it/s]"
            ]
          },
          "metadata": {}
        },
        {
          "output_type": "stream",
          "name": "stdout",
          "text": [
            "에폭 [12/20] - 훈련 데이터 손실값 : 0.0108\n",
            "에폭 [12/20] - 검증 데이터 손실값 : 0.0235 / 검증 데이터 ROC AUC : 0.9999\n"
          ]
        },
        {
          "output_type": "display_data",
          "data": {
            "application/vnd.jupyter.widget-view+json": {
              "model_id": "a1d75a581e004e3eb3643122c43efe6b",
              "version_minor": 0,
              "version_major": 2
            },
            "text/plain": [
              "  0%|          | 0/2079 [00:00<?, ?it/s]"
            ]
          },
          "metadata": {}
        },
        {
          "output_type": "stream",
          "name": "stdout",
          "text": [
            "에폭 [13/20] - 훈련 데이터 손실값 : 0.0086\n",
            "에폭 [13/20] - 검증 데이터 손실값 : 0.0549 / 검증 데이터 ROC AUC : 0.9963\n"
          ]
        },
        {
          "output_type": "display_data",
          "data": {
            "application/vnd.jupyter.widget-view+json": {
              "model_id": "b761b9b5c8af43f890c52e1ac9878d11",
              "version_minor": 0,
              "version_major": 2
            },
            "text/plain": [
              "  0%|          | 0/2079 [00:00<?, ?it/s]"
            ]
          },
          "metadata": {}
        },
        {
          "output_type": "stream",
          "name": "stdout",
          "text": [
            "에폭 [14/20] - 훈련 데이터 손실값 : 0.0087\n",
            "에폭 [14/20] - 검증 데이터 손실값 : 0.0462 / 검증 데이터 ROC AUC : 0.9998\n"
          ]
        },
        {
          "output_type": "display_data",
          "data": {
            "application/vnd.jupyter.widget-view+json": {
              "model_id": "ffdd8cd853154281bee81b02f74d4025",
              "version_minor": 0,
              "version_major": 2
            },
            "text/plain": [
              "  0%|          | 0/2079 [00:00<?, ?it/s]"
            ]
          },
          "metadata": {}
        },
        {
          "output_type": "stream",
          "name": "stdout",
          "text": [
            "에폭 [15/20] - 훈련 데이터 손실값 : 0.0121\n",
            "에폭 [15/20] - 검증 데이터 손실값 : 0.0368 / 검증 데이터 ROC AUC : 0.9982\n"
          ]
        },
        {
          "output_type": "display_data",
          "data": {
            "application/vnd.jupyter.widget-view+json": {
              "model_id": "0978124340304f37bbad0e7907414982",
              "version_minor": 0,
              "version_major": 2
            },
            "text/plain": [
              "  0%|          | 0/2079 [00:00<?, ?it/s]"
            ]
          },
          "metadata": {}
        },
        {
          "output_type": "stream",
          "name": "stdout",
          "text": [
            "에폭 [16/20] - 훈련 데이터 손실값 : 0.0151\n",
            "에폭 [16/20] - 검증 데이터 손실값 : 0.0570 / 검증 데이터 ROC AUC : 0.9971\n"
          ]
        },
        {
          "output_type": "display_data",
          "data": {
            "application/vnd.jupyter.widget-view+json": {
              "model_id": "5c0d3dfebbe4414e91c226e13466ee3a",
              "version_minor": 0,
              "version_major": 2
            },
            "text/plain": [
              "  0%|          | 0/2079 [00:00<?, ?it/s]"
            ]
          },
          "metadata": {}
        },
        {
          "output_type": "stream",
          "name": "stdout",
          "text": [
            "에폭 [17/20] - 훈련 데이터 손실값 : 0.0066\n",
            "에폭 [17/20] - 검증 데이터 손실값 : 0.0362 / 검증 데이터 ROC AUC : 0.9995\n"
          ]
        },
        {
          "output_type": "display_data",
          "data": {
            "application/vnd.jupyter.widget-view+json": {
              "model_id": "c273c02c0d54457897883b84293a8d54",
              "version_minor": 0,
              "version_major": 2
            },
            "text/plain": [
              "  0%|          | 0/2079 [00:00<?, ?it/s]"
            ]
          },
          "metadata": {}
        },
        {
          "output_type": "stream",
          "name": "stdout",
          "text": [
            "에폭 [18/20] - 훈련 데이터 손실값 : 0.0058\n",
            "에폭 [18/20] - 검증 데이터 손실값 : 0.0426 / 검증 데이터 ROC AUC : 0.9989\n"
          ]
        },
        {
          "output_type": "display_data",
          "data": {
            "application/vnd.jupyter.widget-view+json": {
              "model_id": "4e388c2222f04dfc9377fbbf7ed008ef",
              "version_minor": 0,
              "version_major": 2
            },
            "text/plain": [
              "  0%|          | 0/2079 [00:00<?, ?it/s]"
            ]
          },
          "metadata": {}
        },
        {
          "output_type": "stream",
          "name": "stdout",
          "text": [
            "에폭 [19/20] - 훈련 데이터 손실값 : 0.0022\n",
            "에폭 [19/20] - 검증 데이터 손실값 : 0.0545 / 검증 데이터 ROC AUC : 0.9974\n"
          ]
        },
        {
          "output_type": "display_data",
          "data": {
            "application/vnd.jupyter.widget-view+json": {
              "model_id": "c271a829a14948e3acc9e08627e59c21",
              "version_minor": 0,
              "version_major": 2
            },
            "text/plain": [
              "  0%|          | 0/2079 [00:00<?, ?it/s]"
            ]
          },
          "metadata": {}
        },
        {
          "output_type": "stream",
          "name": "stdout",
          "text": [
            "에폭 [20/20] - 훈련 데이터 손실값 : 0.0027\n",
            "에폭 [20/20] - 검증 데이터 손실값 : 0.0482 / 검증 데이터 ROC AUC : 0.9979\n"
          ]
        }
      ]
    },
    {
      "cell_type": "code",
      "metadata": {
        "id": "uxQYu9_NXETn"
      },
      "source": [
        ""
      ],
      "execution_count": null,
      "outputs": []
    },
    {
      "cell_type": "code",
      "metadata": {
        "id": "KRNXnwnp3HJc"
      },
      "source": [
        "#PATH = '/content/drive/My Drive/Tomato_version2/'\n",
        "\n",
        "#모델 저장하기\n",
        "#torch.save(model, PATH + 'model.pt')"
      ],
      "execution_count": 18,
      "outputs": []
    },
    {
      "cell_type": "code",
      "metadata": {
        "id": "L8Xv6Rcf3WbZ"
      },
      "source": [
        "#테스트 사진으로 평가 후 csv 채워넣기"
      ],
      "execution_count": 19,
      "outputs": []
    },
    {
      "cell_type": "code",
      "metadata": {
        "id": "9q7eFlVp4kdr"
      },
      "source": [
        "#모델 이어서 돌리는 코드\n",
        "\n",
        "#import copy\n",
        "#PATH = '/content/drive/MyDrive/Tomato_version2/태희/'\n",
        "\n",
        "#model = EfficientNet.from_pretrained('efficientnet-b6', num_classes=10) #하시던거 똑같이 유지\n",
        "#device = 'cuda'\n",
        "#model.load_state_dict(copy.deepcopy(torch.load(PATH + \"epoch29.pt\",device))) # 9, 14, 19, 24, 29 \n",
        "\n",
        "#model = model.to(device) # 장비 할당\n",
        "\n",
        "#batch_size = 6 #하시던거 똑같이 유지"
      ],
      "execution_count": 20,
      "outputs": []
    },
    {
      "cell_type": "code",
      "metadata": {
        "id": "-gAI3b8t35Ab"
      },
      "source": [
        "test = pd.read_csv(data_path + 'test.csv')\n",
        "submission = pd.read_csv(data_path + 'sample_submission.csv')"
      ],
      "execution_count": 21,
      "outputs": []
    },
    {
      "cell_type": "code",
      "metadata": {
        "id": "9XPluvQB4LyJ"
      },
      "source": [
        "img_dir = '/content/drive/My Drive/Tomato/test_images/'\n",
        "\n",
        "dataset_TTA = ImageDataset(test, img_dir=img_dir, \n",
        "                           transform=transform_train, is_test=True)\n",
        "loader_TTA = DataLoader(dataset_TTA, batch_size=batch_size, \n",
        "                        shuffle=False, worker_init_fn=seed_worker,\n",
        "                        generator=g)"
      ],
      "execution_count": 22,
      "outputs": []
    },
    {
      "cell_type": "code",
      "metadata": {
        "id": "pcX508x889S5",
        "colab": {
          "base_uri": "https://localhost:8080/"
        },
        "outputId": "34725523-e435-4247-fbab-d15eb10c083f"
      },
      "source": [
        "num_TTA = 5 # TTA 횟수\n",
        "\n",
        "preds_tta = np.zeros((len(test), 10)) # 예측 값 저장용 배열 초기화 (TTA용)\n",
        "\n",
        "# TTA를 적용해 예측 (5에폭)\n",
        "for i in range(num_TTA):\n",
        "    print(i)\n",
        "    with torch.no_grad():\n",
        "        for i, images in enumerate(loader_TTA):\n",
        "            images = images.to(device)\n",
        "            outputs = model(images)\n",
        "            # 타깃 예측 확률\n",
        "            preds_part = torch.softmax(outputs.cpu(), dim=1).squeeze().numpy()\n",
        "            preds_tta[i*batch_size:(i+1)*batch_size] += preds_part"
      ],
      "execution_count": null,
      "outputs": [
        {
          "output_type": "stream",
          "name": "stdout",
          "text": [
            "0\n",
            "1\n",
            "2\n",
            "3\n",
            "4\n"
          ]
        }
      ]
    },
    {
      "cell_type": "code",
      "metadata": {
        "id": "gMNbaGxj-o9e"
      },
      "source": [
        "preds_tta /= num_TTA "
      ],
      "execution_count": null,
      "outputs": []
    },
    {
      "cell_type": "code",
      "metadata": {
        "id": "ImGEbz_D9ey_"
      },
      "source": [
        "submission_tta = submission.copy() \n",
        "\n",
        "submission_tta[['Tomato_D01','Tomato_D04','Tomato_D05','Tomato_D07','Tomato_D08','Tomato_D09','Tomato_H','Tomato_P03','Tomato_P05','Tomato_R01']] = preds_tta"
      ],
      "execution_count": null,
      "outputs": []
    },
    {
      "cell_type": "code",
      "metadata": {
        "id": "OqNwI2aZB41u"
      },
      "source": [
        "submission_tta"
      ],
      "execution_count": null,
      "outputs": []
    },
    {
      "cell_type": "code",
      "metadata": {
        "id": "u2SvPyhYFkZc"
      },
      "source": [
        "id = submission_tta[\"image_id\"]"
      ],
      "execution_count": null,
      "outputs": []
    },
    {
      "cell_type": "code",
      "metadata": {
        "id": "4qGutVUrBmru"
      },
      "source": [
        "pred_idx = np.argmax(preds_tta, axis=1)  #확률 중 가장 높은 값의 인덱스를 0 ~ 9까지 반환"
      ],
      "execution_count": null,
      "outputs": []
    },
    {
      "cell_type": "code",
      "metadata": {
        "id": "GJAJ3uQgE4p3"
      },
      "source": [
        "pred_idx"
      ],
      "execution_count": null,
      "outputs": []
    },
    {
      "cell_type": "code",
      "metadata": {
        "id": "YZI65ficBrGV"
      },
      "source": [
        "df = pd.DataFrame({'file_name':id, 'answer':pred_idx})"
      ],
      "execution_count": null,
      "outputs": []
    },
    {
      "cell_type": "code",
      "metadata": {
        "id": "Q5I-JK5PBrMg"
      },
      "source": [
        "df "
      ],
      "execution_count": null,
      "outputs": []
    },
    {
      "cell_type": "code",
      "metadata": {
        "id": "2zlDNqVu9hbz"
      },
      "source": [
        "df.to_csv('/content/drive/My Drive/Tomato/태희/submission_tta.csv', index=False)"
      ],
      "execution_count": null,
      "outputs": []
    },
    {
      "cell_type": "code",
      "metadata": {
        "id": "vYNrYsq3EPy2"
      },
      "source": [
        ""
      ],
      "execution_count": null,
      "outputs": []
    }
  ]
}